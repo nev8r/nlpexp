{
 "cells": [
  {
   "cell_type": "code",
   "execution_count": null,
   "metadata": {},
   "outputs": [],
   "source": [
    "import torch\n",
    "from torch.utils.data import Dataset, DataLoader, random_split\n",
    "from transformers import BertTokenizerFast, BertForTokenClassification, AdamW\n",
    "from transformers import get_linear_schedule_with_warmup\n",
    "from sklearn.metrics import classification_report\n",
    "from tqdm import tqdm"
   ]
  },
  {
   "cell_type": "code",
   "execution_count": 2,
   "metadata": {},
   "outputs": [],
   "source": [
    "class NERDataset(Dataset):\n",
    "    def __init__(self, file_path, tokenizer, max_len):\n",
    "        self.sentences, self.labels = self.read_ner_data(file_path)\n",
    "        self.tokenizer = tokenizer\n",
    "        self.max_len = max_len\n",
    "\n",
    "    def read_ner_data(self, file_path):\n",
    "        with open(file_path, 'r', encoding='utf-8') as file:\n",
    "            data = file.read().strip().split('\\n\\n')\n",
    "        \n",
    "        sentences = []\n",
    "        labels = []\n",
    "        for block in data:\n",
    "            tokens_labels = block.split('\\n')\n",
    "            sentence = []\n",
    "            label = []\n",
    "            for token_label in tokens_labels:\n",
    "                if token_label.strip():\n",
    "                    token, tag = token_label.split()\n",
    "                    sentence.append(token)\n",
    "                    label.append(tag)\n",
    "            sentences.append(sentence)\n",
    "            labels.append(label)\n",
    "        \n",
    "        return sentences, labels\n",
    "\n",
    "    def __len__(self):\n",
    "        return len(self.sentences)\n",
    "\n",
    "    def __getitem__(self, idx):\n",
    "        sentence = self.sentences[idx]\n",
    "        labels = self.labels[idx]\n",
    "\n",
    "        encoding = self.tokenizer(sentence,\n",
    "                                  is_split_into_words=True,\n",
    "                                  padding='max_length',\n",
    "                                  truncation=True,\n",
    "                                  max_length=self.max_len)\n",
    "\n",
    "        labels = [tag2id[label] for label in labels]\n",
    "        label_ids = [-100] * self.max_len\n",
    "        for i, label in enumerate(labels):\n",
    "            if i < self.max_len - 1:\n",
    "                label_ids[i + 1] = label\n",
    "\n",
    "        encoding['labels'] = label_ids\n",
    "        return {key: torch.tensor(val) for key, val in encoding.items()}\n",
    "\n",
    "# 标签到ID的映射\n",
    "tag2id = {'O': 0, 'B-ORG': 1, 'I-ORG': 2, 'B-PER': 3, 'I-PER': 4, 'B-LOC': 5, 'I-LOC': 6}\n",
    "id2tag = {v: k for k, v in tag2id.items()}"
   ]
  },
  {
   "cell_type": "code",
   "execution_count": 3,
   "metadata": {},
   "outputs": [],
   "source": [
    "# 参数设置\n",
    "train_file_path = 'data/test.txt'\n",
    "test_file_path = 'data/test.txt'\n",
    "pretrained_model_name = 'bert-base-chinese'\n",
    "max_len = 128\n",
    "batch_size = 16\n",
    "epochs = 3\n",
    "learning_rate = 2e-5"
   ]
  },
  {
   "cell_type": "markdown",
   "metadata": {},
   "source": [
    "预训练模型下载地址\n",
    "https://hf-mirror.com/google-bert/bert-base-chinese"
   ]
  },
  {
   "cell_type": "code",
   "execution_count": null,
   "metadata": {},
   "outputs": [],
   "source": [
    "# 加载预训练模型和分词器\n",
    "tokenizer = BertTokenizerFast.from_pretrained(pretrained_model_name)\n",
    "model = BertForTokenClassification.from_pretrained(pretrained_model_name, num_labels=len(tag2id))"
   ]
  },
  {
   "cell_type": "code",
   "execution_count": 5,
   "metadata": {},
   "outputs": [],
   "source": [
    "# 创建数据集和数据加载器\n",
    "train_dataset = NERDataset(train_file_path, tokenizer, max_len)\n",
    "test_dataset = NERDataset(test_file_path, tokenizer, max_len)\n",
    "train_size = int(0.9 * len(train_dataset))\n",
    "val_size = len(train_dataset) - train_size\n",
    "train_dataset, val_dataset = random_split(train_dataset, [train_size, val_size])\n",
    "train_loader = DataLoader(train_dataset, batch_size=batch_size, shuffle=True)\n",
    "val_loader = DataLoader(val_dataset, batch_size=batch_size)\n",
    "test_loader = DataLoader(test_dataset, batch_size=batch_size)"
   ]
  },
  {
   "cell_type": "code",
   "execution_count": null,
   "metadata": {},
   "outputs": [],
   "source": [
    "# 设置优化器和学习率调度器\n",
    "optimizer = AdamW(model.parameters(), lr=learning_rate)\n",
    "total_steps = len(train_loader) * epochs\n",
    "scheduler = get_linear_schedule_with_warmup(optimizer, num_warmup_steps=0, num_training_steps=total_steps)"
   ]
  },
  {
   "cell_type": "code",
   "execution_count": 7,
   "metadata": {},
   "outputs": [],
   "source": [
    "# 评估模型\n",
    "def evaluate_model(loader, dataset_type=\"Validation\", device=\"cuda\"):\n",
    "    model.eval()\n",
    "    true_labels = []\n",
    "    pred_labels = []\n",
    "\n",
    "    with torch.no_grad():\n",
    "        for batch in loader:\n",
    "            inputs = {key: val.to(device) for key, val in batch.items()}\n",
    "            outputs = model(**inputs)\n",
    "            logits = outputs.logits\n",
    "            \n",
    "            predictions = torch.argmax(logits, dim=-1)\n",
    "            for i in range(predictions.shape[0]):\n",
    "                true_labels.extend(inputs['labels'][i][inputs['labels'][i] != -100].tolist())\n",
    "                pred_labels.extend(predictions[i][inputs['labels'][i] != -100].tolist())\n",
    "\n",
    "    report = classification_report(true_labels, pred_labels, target_names=[id2tag[i] for i in range(len(tag2id))], zero_division=0)\n",
    "    print(f\"{dataset_type} metrics:\\n{report}\")"
   ]
  },
  {
   "cell_type": "code",
   "execution_count": null,
   "metadata": {},
   "outputs": [],
   "source": [
    "# 训练模型\n",
    "device = torch.device('cuda' if torch.cuda.is_available() else 'cpu')\n",
    "model.to(device)\n",
    "\n",
    "for epoch in range(epochs):\n",
    "    model.train()\n",
    "    for batch in tqdm(train_loader, desc=f\"Training Epoch {epoch+1}\"):\n",
    "        inputs = {key: val.to(device) for key, val in batch.items()}\n",
    "        \n",
    "        outputs = model(**inputs)\n",
    "        \n",
    "        loss = outputs.loss\n",
    "        loss.backward()\n",
    "        \n",
    "        optimizer.step()\n",
    "        scheduler.step()\n",
    "        optimizer.zero_grad()\n",
    "    \n",
    "    # 在每个epoch结束时评估验证集\n",
    "    evaluate_model(val_loader, \"Validation\", device)\n",
    "\n",
    "print(\"Training complete.\")"
   ]
  },
  {
   "cell_type": "code",
   "execution_count": null,
   "metadata": {},
   "outputs": [],
   "source": [
    "# 测试模型\n",
    "evaluate_model(test_loader, \"Test\")"
   ]
  }
 ],
 "metadata": {
  "kernelspec": {
   "display_name": "py38",
   "language": "python",
   "name": "python3"
  },
  "language_info": {
   "codemirror_mode": {
    "name": "ipython",
    "version": 3
   },
   "file_extension": ".py",
   "mimetype": "text/x-python",
   "name": "python",
   "nbconvert_exporter": "python",
   "pygments_lexer": "ipython3",
   "version": "3.9.19"
  }
 },
 "nbformat": 4,
 "nbformat_minor": 2
}
